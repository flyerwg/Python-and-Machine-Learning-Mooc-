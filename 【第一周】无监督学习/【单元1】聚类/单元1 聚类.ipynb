{
 "cells": [
  {
   "cell_type": "markdown",
   "metadata": {},
   "source": [
    "### 建立工程导入sklearn包"
   ]
  },
  {
   "cell_type": "code",
   "execution_count": 3,
   "metadata": {},
   "outputs": [],
   "source": [
    "import numpy as np\n",
    "import pandas as pd\n",
    "from sklearn.cluster import KMeans"
   ]
  },
  {
   "cell_type": "markdown",
   "metadata": {},
   "source": [
    "### 加载数据"
   ]
  },
  {
   "cell_type": "markdown",
   "metadata": {},
   "source": [
    "#### 创建k-Means算法实例，并进行训练，获得标签"
   ]
  },
  {
   "cell_type": "code",
   "execution_count": 32,
   "metadata": {},
   "outputs": [],
   "source": [
    "# data\n",
    "raw_data = pd.read_csv('city.csv',sep=',',encoding = 'gb2312')\n",
    "data = raw_data[['指标1','指标2','指标3','指标4','指标5','指标6','指标7','指标8']]\n",
    "cityName = raw_data['地区']\n",
    "# model\n",
    "clf_km = KMeans(n_clusters=3)\n",
    "label = clf_km.fit_predict(data)\n",
    "expenses = np.sum(clf_km.cluster_centers_, axis=1)"
   ]
  },
  {
   "cell_type": "code",
   "execution_count": 34,
   "metadata": {},
   "outputs": [
    {
     "name": "stdout",
     "output_type": "stream",
     "text": [
      "Expenses:4972.74\n",
      "['天津', '江苏', '福建', '湖南', '广西', '海南', '重庆', '四川', '云南', '西藏']\n",
      "Expenses:3827.87\n",
      "['河北', '山西', '内蒙古', '辽宁', '吉林', '黑龙江', '安徽', '江西', '山东', '河南', '湖北', '贵州', '陕西', '甘肃', '青海', '宁夏', '新疆']\n",
      "Expenses:7446.38\n",
      "['北京', '上海', '浙江', '广东']\n"
     ]
    }
   ],
   "source": [
    "CityCluster = [[],[],[]]\n",
    "for i in range(len(cityName)):\n",
    "    CityCluster[label[i]].append(cityName[i])\n",
    "for i in range(len(CityCluster)):\n",
    "    print('Expenses:%.2f'%expenses[i])\n",
    "    print(CityCluster[i])"
   ]
  },
  {
   "cell_type": "code",
   "execution_count": null,
   "metadata": {},
   "outputs": [],
   "source": []
  }
 ],
 "metadata": {
  "kernelspec": {
   "display_name": "Python 3",
   "language": "python",
   "name": "python3"
  },
  "language_info": {
   "codemirror_mode": {
    "name": "ipython",
    "version": 3
   },
   "file_extension": ".py",
   "mimetype": "text/x-python",
   "name": "python",
   "nbconvert_exporter": "python",
   "pygments_lexer": "ipython3",
   "version": "3.7.6"
  }
 },
 "nbformat": 4,
 "nbformat_minor": 4
}
